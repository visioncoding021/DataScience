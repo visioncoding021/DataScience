{
 "cells": [
  {
   "cell_type": "code",
   "execution_count": 2,
   "id": "55677cc4",
   "metadata": {},
   "outputs": [],
   "source": [
    "# question 1:\n",
    "# def keyword use to create function\n",
    "def oddNum():\n",
    "    odd = []\n",
    "    for i in range(0,26):\n",
    "        if(i%2!=0):\n",
    "            oddNum.append(i)\n",
    "    return oddNum\n",
    "\n",
    "    \n"
   ]
  },
  {
   "cell_type": "code",
   "execution_count": 4,
   "id": "986078be",
   "metadata": {},
   "outputs": [
    {
     "data": {
      "text/plain": [
       "{'a': 1, 'b': 2}"
      ]
     },
     "execution_count": 4,
     "metadata": {},
     "output_type": "execute_result"
    }
   ],
   "source": [
    "# question 2\n",
    "# *args use to take n number of argumnet \n",
    "\n",
    "def test(*args):\n",
    "    return args\n",
    "test(1,2,3,4,5)\n",
    "\n",
    "# **kargs use take n number of key value pair and return dictionary\n",
    "\n",
    "def test1(**kwargs):\n",
    "    return kwargs\n",
    "test1(a=1,b=2)"
   ]
  },
  {
   "cell_type": "code",
   "execution_count": 5,
   "id": "d6ad7973",
   "metadata": {},
   "outputs": [
    {
     "name": "stdout",
     "output_type": "stream",
     "text": [
      "0\n",
      "1\n",
      "2\n",
      "3\n",
      "4\n",
      "5\n",
      "6\n",
      "7\n",
      "8\n",
      "9\n"
     ]
    }
   ],
   "source": [
    "# question 3 :\n",
    "# iterator is use to traverse a itreable object one by one\n",
    "li = [2,4,6,8,10,12,14,16,18,20]\n",
    "for i in range(0,len(li)):\n",
    "    print(i)"
   ]
  },
  {
   "cell_type": "code",
   "execution_count": 6,
   "id": "d6ad3aeb",
   "metadata": {},
   "outputs": [],
   "source": [
    "# question 4:\n",
    "# genrator function is use to genrate data on demand. its generate data when it is call not ones \n",
    "# yield keyword is use to hold data\n",
    "def fib():\n",
    "    a=0\n",
    "    b =1;\n",
    "    yield a\n",
    "    a,b=b,a+b"
   ]
  },
  {
   "cell_type": "code",
   "execution_count": 8,
   "id": "46aabf01",
   "metadata": {},
   "outputs": [
    {
     "name": "stdout",
     "output_type": "stream",
     "text": [
      "2\n",
      "3\n",
      "5\n",
      "7\n",
      "11\n",
      "13\n",
      "17\n",
      "19\n",
      "23\n",
      "29\n",
      "31\n",
      "37\n",
      "41\n",
      "43\n",
      "47\n",
      "53\n",
      "59\n",
      "61\n",
      "67\n",
      "71\n"
     ]
    }
   ],
   "source": [
    "# question 5:\n",
    "\n",
    "\n",
    "def prime_generator():\n",
    "    num = 2\n",
    "    while num < 1000:\n",
    "        if is_prime(num):\n",
    "            yield num\n",
    "        num += 1\n",
    "\n",
    "# Using the generator to print the first 20 prime numbers\n",
    "prime_gen = prime_generator()\n",
    "\n",
    "for _ in range(20):\n",
    "    print(next(prime_gen))\n"
   ]
  },
  {
   "cell_type": "code",
   "execution_count": null,
   "id": "a94f9c2c",
   "metadata": {},
   "outputs": [],
   "source": []
  }
 ],
 "metadata": {
  "kernelspec": {
   "display_name": "Python 3 (ipykernel)",
   "language": "python",
   "name": "python3"
  },
  "language_info": {
   "codemirror_mode": {
    "name": "ipython",
    "version": 3
   },
   "file_extension": ".py",
   "mimetype": "text/x-python",
   "name": "python",
   "nbconvert_exporter": "python",
   "pygments_lexer": "ipython3",
   "version": "3.10.9"
  }
 },
 "nbformat": 4,
 "nbformat_minor": 5
}
