{
 "cells": [
  {
   "cell_type": "code",
   "execution_count": 1,
   "id": "dff07fb7",
   "metadata": {},
   "outputs": [],
   "source": [
    "## question -1 \n",
    "str_var = \"hello world\"\n",
    "list_var = [1,2,3.14,\"Hey\",[\"1\",True],False]\n",
    "float_var = 2.781\n",
    "tuple_var = (1,2,2,\"there\",\"where\",True)"
   ]
  },
  {
   "cell_type": "code",
   "execution_count": 6,
   "id": "c8a44ae8",
   "metadata": {},
   "outputs": [
    {
     "name": "stdout",
     "output_type": "stream",
     "text": [
      "<class 'str'>\n",
      "<class 'str'>\n",
      "<class 'list'>\n",
      "<class 'float'>\n"
     ]
    }
   ],
   "source": [
    "## question -2\n",
    "var1 =''\n",
    "print(type(var1));\n",
    "var2 = '[DS,ML,Python]'\n",
    "print(type(var2))\n",
    "var3 = ['DS','ML','Python']\n",
    "print(type(var3))\n",
    "var4 = 1.\n",
    "print(type(var4))"
   ]
  },
  {
   "cell_type": "code",
   "execution_count": 8,
   "id": "f1cfe562",
   "metadata": {},
   "outputs": [
    {
     "name": "stdout",
     "output_type": "stream",
     "text": [
      "3.3333333333333335\n",
      "1\n",
      "3\n",
      "1000\n"
     ]
    }
   ],
   "source": [
    "## question 3\n",
    "a = 10\n",
    "b = 3\n",
    "# \"/\" operators \n",
    "# use for divide\n",
    "c = a/b\n",
    "print(c) \n",
    "\n",
    "# \"%\" operators \n",
    "# use for find remainder\n",
    "c = a%b\n",
    "print(c) \n",
    "\n",
    "# \"//\" operators \n",
    "# use for floor value when we devide\n",
    "c = a//b\n",
    "print(c) \n",
    "\n",
    "# \"**\" operators \n",
    "# it means b is power of a\n",
    "c = a**b\n",
    "print(c) "
   ]
  },
  {
   "cell_type": "code",
   "execution_count": 16,
   "id": "69ab7f5a",
   "metadata": {},
   "outputs": [
    {
     "name": "stdout",
     "output_type": "stream",
     "text": [
      "10\n"
     ]
    }
   ],
   "source": [
    "# question 4\n",
    "\n",
    "dataList = [1,2,3.14,\"hello\",\"Shiva\",True,(1,3),False,\"Python\",3.1]\n",
    "print(len(dataList))\n"
   ]
  },
  {
   "cell_type": "code",
   "execution_count": 28,
   "id": "c6cf9baf",
   "metadata": {},
   "outputs": [
    {
     "name": "stdout",
     "output_type": "stream",
     "text": [
      "18\n",
      "2\n",
      "1\n"
     ]
    }
   ],
   "source": [
    "# question 5\n",
    "a = int(input())\n",
    "b = int(input())\n",
    "flag = 0\n",
    "\n",
    "while a > 0:\n",
    "    if a % b == 0:\n",
    "        a = a // b\n",
    "        flag = flag + 1\n",
    "    else:\n",
    "        print(flag)\n",
    "        break\n"
   ]
  },
  {
   "cell_type": "code",
   "execution_count": 33,
   "id": "227ed8f8",
   "metadata": {},
   "outputs": [
    {
     "name": "stdout",
     "output_type": "stream",
     "text": [
      "not divisible by 3-> 1\n",
      "not divisible by 3-> 2\n",
      "divisible by 3 :-> 3\n",
      "not divisible by 3-> 4\n",
      "not divisible by 3-> 5\n",
      "divisible by 3 :-> 6\n",
      "not divisible by 3-> 7\n",
      "not divisible by 3-> 8\n",
      "divisible by 3 :-> 9\n",
      "not divisible by 3-> 10\n",
      "not divisible by 3-> 11\n",
      "divisible by 3 :-> 12\n",
      "not divisible by 3-> 13\n",
      "not divisible by 3-> 14\n",
      "divisible by 3 :-> 15\n",
      "not divisible by 3-> 16\n",
      "not divisible by 3-> 17\n",
      "divisible by 3 :-> 18\n",
      "not divisible by 3-> 19\n",
      "not divisible by 3-> 20\n",
      "divisible by 3 :-> 21\n",
      "not divisible by 3-> 22\n",
      "not divisible by 3-> 23\n",
      "divisible by 3 :-> 24\n",
      "not divisible by 3-> 25\n"
     ]
    }
   ],
   "source": [
    "DataList = [1,2,3,4,5,6,7,8,9,10,11,12,13,14,15,16,17,18,19,20,21,22,23,24,25]\n",
    "\n",
    "for num in DataList :\n",
    "    if num % 3 == 0 : print(\"divisible by 3 :->\",num)\n",
    "    else: \n",
    "            print(\"not divisible by 3->\",num)"
   ]
  },
  {
   "cell_type": "code",
   "execution_count": 34,
   "id": "40853b3f",
   "metadata": {},
   "outputs": [
    {
     "name": "stdout",
     "output_type": "stream",
     "text": [
      "2\n",
      "Hello World\n",
      "l\n"
     ]
    }
   ],
   "source": [
    "# by mutable we understand that we can edit a data structure(list) at any index after assign any value. by immutable we can not edit any index value like strings\n",
    "\n",
    "#mutable example\n",
    "list_varr = [1,2,3,4];\n",
    "print(list_varr[1]) # value is 2 at index 2\n",
    "# now we change value at index 1\n",
    "list_varr[1] = \"Hello World\";\n",
    "print(list_varr[1]) # output Hello World\n",
    "str = \"Hello World\"; \n",
    "print(str[3]); # here output is l\n",
    "# if try mutate this string like above list it give error"
   ]
  },
  {
   "cell_type": "code",
   "execution_count": null,
   "id": "68c5f756",
   "metadata": {},
   "outputs": [],
   "source": []
  }
 ],
 "metadata": {
  "kernelspec": {
   "display_name": "Python 3 (ipykernel)",
   "language": "python",
   "name": "python3"
  },
  "language_info": {
   "codemirror_mode": {
    "name": "ipython",
    "version": 3
   },
   "file_extension": ".py",
   "mimetype": "text/x-python",
   "name": "python",
   "nbconvert_exporter": "python",
   "pygments_lexer": "ipython3",
   "version": "3.10.9"
  }
 },
 "nbformat": 4,
 "nbformat_minor": 5
}
